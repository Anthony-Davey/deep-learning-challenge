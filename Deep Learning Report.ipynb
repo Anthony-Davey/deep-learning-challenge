{
 "cells": [
  {
   "cell_type": "markdown",
   "id": "c6ce29a3",
   "metadata": {},
   "source": [
    "# Deep Learning Report"
   ]
  },
  {
   "cell_type": "markdown",
   "id": "de7e3dbe",
   "metadata": {},
   "source": [
    "## Overview:"
   ]
  },
  {
   "cell_type": "markdown",
   "id": "c337c517",
   "metadata": {},
   "source": [
    "### The purpose of this analysis was to be able to accurately predict whether applicants would be successful if funded by Alphabet Soup. A neural network methodology was used for our analysis, with an expected target predictive accuracy of at least 75%.  "
   ]
  },
  {
   "cell_type": "markdown",
   "id": "b9a1d2ca",
   "metadata": {},
   "source": [
    "## Results:"
   ]
  },
  {
   "cell_type": "markdown",
   "id": "c020a5db",
   "metadata": {},
   "source": [
    "### Data Preprocessing"
   ]
  },
  {
   "cell_type": "markdown",
   "id": "82b36024",
   "metadata": {},
   "source": [
    "* What variables are the targets for your model? <br>\n",
    "IS_SUCCESSFUL"
   ]
  },
  {
   "cell_type": "markdown",
   "id": "913ee3dc",
   "metadata": {},
   "source": [
    "* What variables are the features for your model? <br>\n",
    "APPLICATION_TYPE, AFFILIATION, CLASSIFICATION, USE_CASE, ORGANIZATION, STATUS, INCOME_AMT, SPECIAL_CONSIDERATIONS, ASK_AMT"
   ]
  },
  {
   "cell_type": "markdown",
   "id": "0443b813",
   "metadata": {},
   "source": [
    "* What variable(s) should be removed from the input data because they are neither targets nor features? <br>\n",
    "EIN, NAME"
   ]
  },
  {
   "cell_type": "markdown",
   "id": "4b0da277",
   "metadata": {},
   "source": [
    "### Compiling, Training, and Evaluating the Model"
   ]
  },
  {
   "cell_type": "markdown",
   "id": "b56e1814",
   "metadata": {},
   "source": [
    "* How many neurons, layers, and activation functions did you select for your neural network model, and why? <br>\n",
    "After many changes I decided to go with 3 layers containing 18, 12, and 6 nodes. I wasn't able to see meaningful changes in accuracy score though by increasing or decreasing either the number of hidden layers or the nodes within. I decided to use the relu activation function for both hidden layers and the sigmoid activation function for the final layer. I decided to choose relu because of its simplicity and speed. I chose sigmoid for the final layer's activation function since it involves a binary output on the target variable. "
   ]
  },
  {
   "cell_type": "markdown",
   "id": "1abc3e27",
   "metadata": {},
   "source": [
    "* Were you able to achieve the target model performance? <br>\n",
    "I was not able to meet the accuracy requirements of the assignment. "
   ]
  },
  {
   "cell_type": "markdown",
   "id": "b8934202",
   "metadata": {},
   "source": [
    "* What steps did you take in your attempts to increase model performance? <br>\n",
    "During the optimization process I focused on 3 areas that I believed would change model results: number of hidden layers, number of nodes (and their interval pattern), and the activation functions at each layer. I found that making these changes had little impact on my model's performance. I believe that 75% or greater may not be possible with this data or I did not properly preprocess my data."
   ]
  },
  {
   "cell_type": "markdown",
   "id": "f53bcabb",
   "metadata": {},
   "source": [
    "## Summary:"
   ]
  },
  {
   "cell_type": "markdown",
   "id": "7a44614b",
   "metadata": {},
   "source": [
    "My neural network returned an accuracy score of 73% on the optimized script, which is fairly accurate for Alphabet Soup to use when compared to a theoretical 50% random chance. Given that we have a target I would only recommend other forms of supervised learning algorithms. We also know that the target is a binary categorical variable, which would mean that we'd consider classification techniques such as random forest, SVM, or logistic regression. While we could possibly improve our neural network model, I believe that by testing other appropriate models on this data can provide insights into which model may be a better fit. "
   ]
  },
  {
   "cell_type": "code",
   "execution_count": null,
   "id": "0f9f214a",
   "metadata": {},
   "outputs": [],
   "source": []
  }
 ],
 "metadata": {
  "kernelspec": {
   "display_name": "Python 3 (ipykernel)",
   "language": "python",
   "name": "python3"
  },
  "language_info": {
   "codemirror_mode": {
    "name": "ipython",
    "version": 3
   },
   "file_extension": ".py",
   "mimetype": "text/x-python",
   "name": "python",
   "nbconvert_exporter": "python",
   "pygments_lexer": "ipython3",
   "version": "3.9.7"
  }
 },
 "nbformat": 4,
 "nbformat_minor": 5
}
